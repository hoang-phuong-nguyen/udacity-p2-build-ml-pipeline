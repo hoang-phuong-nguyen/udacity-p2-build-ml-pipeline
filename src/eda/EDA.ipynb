{
 "cells": [
  {
   "cell_type": "code",
   "execution_count": null,
   "id": "e062688b-15ac-4fc0-be92-dd6a5e4f2c5e",
   "metadata": {},
   "outputs": [],
   "source": [
    "import wandb\n",
    "import pandas as pd\n",
    "import pandas_profiling"
   ]
  },
  {
   "cell_type": "markdown",
   "id": "c4728ec8-4510-45f5-864c-4f0dc74a87d7",
   "metadata": {},
   "source": [
    "Fetch the artifact (sample.csv) from W&B and read it with pandas"
   ]
  },
  {
   "cell_type": "code",
   "execution_count": null,
   "id": "535181f0-afb0-40d7-a03c-5c99558c434f",
   "metadata": {},
   "outputs": [],
   "source": [
    "run = wandb.init(project=\"nyc_airbnb\", group=\"eda\", save_code=True)\n",
    "local_path = wandb.use_artifact(\"sample.csv:latest\").file()\n",
    "df = pd.read_csv(local_path)"
   ]
  },
  {
   "cell_type": "markdown",
   "id": "bd2a995f-ba10-4ac2-878c-e397922c45ef",
   "metadata": {},
   "source": [
    "Create a pandas_profiling profile"
   ]
  },
  {
   "cell_type": "code",
   "execution_count": null,
   "id": "4d609e8a-19c0-45c8-ac7a-d58c1937e1c2",
   "metadata": {},
   "outputs": [],
   "source": [
    "profile = pandas_profiling.ProfileReport(df)\n",
    "profile.to_widgets()"
   ]
  },
  {
   "cell_type": "code",
   "execution_count": null,
   "id": "3c3d06cf-8788-4a16-9cc1-cc90d3fc7a2f",
   "metadata": {},
   "outputs": [],
   "source": []
  }
 ],
 "metadata": {
  "kernelspec": {
   "display_name": "Python 3 (ipykernel)",
   "language": "python",
   "name": "python3"
  },
  "language_info": {
   "codemirror_mode": {
    "name": "ipython",
    "version": 3
   },
   "file_extension": ".py",
   "mimetype": "text/x-python",
   "name": "python",
   "nbconvert_exporter": "python",
   "pygments_lexer": "ipython3",
   "version": "3.8.16"
  }
 },
 "nbformat": 4,
 "nbformat_minor": 5
}
